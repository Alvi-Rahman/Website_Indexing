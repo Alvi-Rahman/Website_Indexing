{
 "cells": [
  {
   "cell_type": "code",
   "execution_count": 1,
   "metadata": {},
   "outputs": [],
   "source": [
    "from selenium import webdriver\n",
    "import urllib.request\n",
    "import time\n",
    "import os\n",
    "import glob\n",
    "import re"
   ]
  },
  {
   "cell_type": "code",
   "execution_count": 2,
   "metadata": {},
   "outputs": [],
   "source": [
    "driver = webdriver.Chrome('chromedriver.exe')"
   ]
  },
  {
   "cell_type": "code",
   "execution_count": 3,
   "metadata": {},
   "outputs": [],
   "source": [
    "driver.get(\"https://www.gozayaan.com/\")"
   ]
  },
  {
   "cell_type": "code",
   "execution_count": 4,
   "metadata": {},
   "outputs": [],
   "source": [
    "social = [\n",
    "    'facebook.com',\n",
    "    'instagram.com',\n",
    "    'twitter.com',\n",
    "    'linkedin.com',\n",
    "    'pinterest.com',\n",
    "    'youtube.com',\n",
    "    'flipboard.com',\n",
    "    'google.com',\n",
    "    'reddit.com',\n",
    "    '@'\n",
    "]"
   ]
  },
  {
   "cell_type": "code",
   "execution_count": 5,
   "metadata": {
    "scrolled": false
   },
   "outputs": [
    {
     "name": "stdout",
     "output_type": "stream",
     "text": [
      "https://www.gozayaan.com/\n",
      "https://www.gozayaan.com/?search=flight\n",
      "https://www.gozayaan.com/?search=hotel\n",
      "https://www.gozayaan.com/?search=tour\n",
      "https://www.gozayaan.com/?search=visa\n",
      "https://www.gozayaan.com/travelloan\n",
      "https://www.gozayaan.com/\n",
      "https://www.gozayaan.com/account/signin\n",
      "https://www.gozayaan.com/account/signin\n",
      "https://www.gozayaan.com/account/signin\n",
      "https://www.gozayaan.com/campaign/sc\n",
      "https://www.gozayaan.com/valentine\n",
      "https://www.gozayaan.com/tour/list?location=1\n",
      "https://www.gozayaan.com/campaign/sc\n",
      "https://www.gozayaan.com/travelloan\n",
      "https://www.gozayaan.com/offers/sc\n",
      "https://www.gozayaan.com/\n",
      "https://www.gozayaan.com/terms\n",
      "https://www.gozayaan.com/policies\n",
      "https://www.gozayaan.com/career\n",
      "mailto:info@gozayaan.com\n",
      "tel:+8809678332211\n",
      "https://www.facebook.com/GoZayaan/\n",
      "https://www.youtube.com/channel/UCPcc3SEA1Ig3QMqNaW91-Ng\n",
      "https://www.instagram.com/gozayaan/\n"
     ]
    }
   ],
   "source": [
    "elems = driver.find_elements_by_xpath(\"//a[@href]\")\n",
    "for elem in elems:\n",
    "    print(elem.get_attribute(\"href\"))"
   ]
  },
  {
   "cell_type": "code",
   "execution_count": 6,
   "metadata": {},
   "outputs": [],
   "source": [
    "links = []\n",
    "elems = driver.find_elements_by_xpath(\"//a[@href]\")\n",
    "for elem in elems:\n",
    "    temp_link = elem.get_attribute(\"href\")\n",
    "    if [i for i in social if i in temp_link or re.match(\".*?(\\(?\\d{3}\\D{0,3}\\d{3}\\D{0,3}\\d{4}).*?\",str(temp_link))]:\n",
    "        pass\n",
    "    else:\n",
    "        links.append(temp_link)"
   ]
  },
  {
   "cell_type": "code",
   "execution_count": 7,
   "metadata": {},
   "outputs": [
    {
     "data": {
      "text/plain": [
       "['https://www.gozayaan.com/?search=tour',\n",
       " 'https://www.gozayaan.com/valentine',\n",
       " 'https://www.gozayaan.com/offers/sc',\n",
       " 'https://www.gozayaan.com/?search=flight',\n",
       " 'https://www.gozayaan.com/campaign/sc',\n",
       " 'https://www.gozayaan.com/tour/list?location=1',\n",
       " 'https://www.gozayaan.com/career',\n",
       " 'https://www.gozayaan.com/?search=visa',\n",
       " 'https://www.gozayaan.com/',\n",
       " 'https://www.gozayaan.com/travelloan',\n",
       " 'https://www.gozayaan.com/account/signin',\n",
       " 'https://www.gozayaan.com/policies',\n",
       " 'https://www.gozayaan.com/?search=hotel',\n",
       " 'https://www.gozayaan.com/terms']"
      ]
     },
     "execution_count": 7,
     "metadata": {},
     "output_type": "execute_result"
    }
   ],
   "source": [
    "list(set(links))"
   ]
  },
  {
   "cell_type": "code",
   "execution_count": null,
   "metadata": {},
   "outputs": [],
   "source": []
  },
  {
   "cell_type": "code",
   "execution_count": 13,
   "metadata": {
    "scrolled": false
   },
   "outputs": [],
   "source": [
    "meta_desc = driver.find_elements_by_xpath(\"//meta[@name='description']\")\n",
    "for desc in meta_desc:\n",
    "    print(desc.get_attribute(\"content\"))"
   ]
  },
  {
   "cell_type": "code",
   "execution_count": 25,
   "metadata": {},
   "outputs": [
    {
     "data": {
      "text/plain": [
       "'Go Zayaan'"
      ]
     },
     "execution_count": 25,
     "metadata": {},
     "output_type": "execute_result"
    }
   ],
   "source": [
    "driver.title"
   ]
  },
  {
   "cell_type": "code",
   "execution_count": 29,
   "metadata": {},
   "outputs": [
    {
     "data": {
      "text/plain": [
       "[]"
      ]
     },
     "execution_count": 29,
     "metadata": {},
     "output_type": "execute_result"
    }
   ],
   "source": [
    "keywords = driver.find_elements_by_xpath(\"//meta[@name='keywords']\")\n",
    "\n",
    "for keyword in keywords:\n",
    "    print(keyword.get_attribute(\"content\"))"
   ]
  },
  {
   "cell_type": "code",
   "execution_count": 45,
   "metadata": {},
   "outputs": [],
   "source": [
    "driver.save_screenshot(\"screenshot.png\")"
   ]
  },
  {
   "cell_type": "code",
   "execution_count": null,
   "metadata": {},
   "outputs": [],
   "source": []
  },
  {
   "cell_type": "code",
   "execution_count": 39,
   "metadata": {},
   "outputs": [
    {
     "data": {
      "text/plain": [
       "True"
      ]
     },
     "execution_count": 39,
     "metadata": {},
     "output_type": "execute_result"
    }
   ],
   "source": []
  },
  {
   "cell_type": "code",
   "execution_count": 40,
   "metadata": {},
   "outputs": [],
   "source": [
    "# get the image source\n",
    "img = driver.find_elements_by_tag_name('img')\n",
    "\n",
    "c = 0\n",
    "for i in img:\n",
    "    src = i.get_attribute('src')\n",
    "    # download the image\n",
    "    urllib.request.urlretrieve(src, str(src).split('/')[-1])\n",
    "#     print(str(src))\n",
    "    "
   ]
  },
  {
   "cell_type": "code",
   "execution_count": null,
   "metadata": {},
   "outputs": [],
   "source": []
  },
  {
   "cell_type": "code",
   "execution_count": 26,
   "metadata": {
    "scrolled": true
   },
   "outputs": [
    {
     "data": {
      "text/plain": [
       "'<html lang=\"en\"><head><title>Go Zayaan</title><script id=\"facebook-jssdk\" src=\"https://connect.facebook.net/en_US/sdk/xfbml.customerchat.js\"></script><script type=\"text/javascript\" async=\"\" src=\"https://www.google-analytics.com/analytics.js\"></script><script src=\"https://connect.facebook.net/signals/config/682314282166283?v=2.9.33&amp;r=stable\" async=\"\"></script><script async=\"\" src=\"https://connect.facebook.net/en_US/fbevents.js\"></script><script async=\"\" src=\"https://www.googletagmanager.com/gtag/js?id=UA-104318802-1\"></script><script>window.dataLayer = window.dataLayer || [];\\n      function gtag() {\\n        dataLayer.push(arguments);\\n      }\\n      gtag(\\'js\\', new Date());\\n      gtag(\\'config\\', \\'UA-104318802-1\\');</script><meta charset=\"utf-8\"><meta http-equiv=\"X-UA-Compatible\" content=\"IE=edge\"><meta name=\"viewport\" content=\"width=device-width,initial-scale=1,maximum-scale=1,user-scalable=0\"><meta name=\"description\" content=\"Welcome to Go Zayaan, the ultimate online platform for next generation traveling! We aim to put you in charge of your travel plan. Your dream trip is just a few clicks away, with Go Zayaan!\"><link rel=\"icon\" href=\"/gz-favicon.png\"><link rel=\"icon\" href=\"/gz-favicon.svg\"><style>@media screen and (max-width: 576px) {\\n            .fb_dialog iframe {\\n                bottom: 70px !important;\\n                right: 8px !important;\\n            }\\n        }\\n        body.no-plugin .fb_dialog iframe {\\n            display: none !important;\\n        }</style><script>(function(h,o,t,j,a,r){\\n      h.hj=h.hj||function(){(h.hj.q=h.hj.q||[]).push(arguments)};\\n      h._hjSettings={hjid:2029163,hjsv:6};\\n      a=o.getElementsByTagName(\\'head\\')[0];\\n      r=o.createElement(\\'script\\');r.async=1;\\n      r.src=t+h._hjSettings.hjid+j+h._hjSettings.hjsv;\\n      a.appendChild(r);\\n  })(window,document,\\'https://static.hotjar.com/c/hotjar-\\',\\'.js?sv=\\');</script><script async=\"\" src=\"https://static.hotjar.com/c/hotjar-2029163.js?sv=6\"></script><script>!function (f, b, e, v, n, t, s) {\\n        if (f.fbq) return;\\n        n = f.fbq = function () {\\n          n.callMethod ?\\n            n.callMethod.apply(n, arguments) : n.queue.push(arguments);\\n        };\\n        if (!f._fbq) f._fbq = n;\\n        n.push = n;\\n        n.loaded = !0;\\n        n.version = \\'2.0\\';\\n        n.queue = [];\\n        t = b.createElement(e);\\n        t.async = !0;\\n        t.src = v;\\n        s = b.getElementsByTagName(e)[0];\\n        s.parentNode.insertBefore(t, s);\\n      }(window, document, \\'script\\',\\n        \\'https://connect.facebook.net/en_US/fbevents.js\\');\\n      fbq(\\'init\\', \\'682314282166283\\');\\n      fbq(\\'track\\', \\'PageView\\');</script><script>!function(e,a,n,d,g){e.dengage=e.dengage||function(){(e.dengage.q=e.dengage.q||[]).push(arguments)},d=a.getElementsByTagName(\"head\")[0],(g=a.createElement(\"script\")).async=1,g.src=\"https://p.dengage.com/p/push/139/53349fdd-38a1-e67b-6f5b-a44738c9f1d4/dengage_sdk.js\",d.appendChild(g)}(window,document);\\n      dengage(\\'initialize\\');</script><script async=\"\" src=\"https://p.dengage.com/p/push/139/53349fdd-38a1-e67b-6f5b-a44738c9f1d4/dengage_sdk.js\"></script><noscript><img height=1 width=1 src=\"https://www.facebook.com/tr?id=682314282166283&ev=PageView\\n&noscript=1\"></noscript><link href=\"/css/chunk-010a5c76.a56d5a92.css\" rel=\"prefetch\"><link href=\"/css/chunk-03f3b68e.08708950.css\" rel=\"prefetch\"><link href=\"/css/chunk-07c01542.465ba818.css\" rel=\"prefetch\"><link href=\"/css/chunk-08ab1660.99f12e89.css\" rel=\"prefetch\"><link href=\"/css/chunk-12aec050.e89f41ff.css\" rel=\"prefetch\"><link href=\"/css/chunk-13cca8d4.7b84ee50.css\" rel=\"prefetch\"><link href=\"/css/chunk-27c7bd02.68df8216.css\" rel=\"prefetch\"><link href=\"/css/chunk-2d20dc1d.39d89d3c.css\" rel=\"prefetch\"><link href=\"/css/chunk-2d9e0546.0005fe02.css\" rel=\"prefetch\"><link href=\"/css/chunk-2ea12c41.662ab9c4.css\" rel=\"prefetch\"><link href=\"/css/chunk-2ec8d6f1.695bfc1a.css\" rel=\"prefetch\"><link href=\"/css/chunk-30a34550.952f40e4.css\" rel=\"prefetch\"><link href=\"/css/chunk-342c2c78.3fddf0ae.css\" rel=\"prefetch\"><link href=\"/css/chunk-34f397e7.b240c2c7.css\" rel=\"prefetch\"><link href=\"/css/chunk-38536ede.808bce6b.css\" rel=\"prefetch\"><link href=\"/css/chunk-39d2421e.e821e2c1.css\" rel=\"prefetch\"><link href=\"/css/chunk-3ab152cd.75dcbfaa.css\" rel=\"prefetch\"><link href=\"/css/chunk-3b2eb17f.7801bd0d.css\" rel=\"prefetch\"><link href=\"/css/chunk-3bff396a.9fef8772.css\" rel=\"prefetch\"><link href=\"/css/chunk-41240a4b.40c05c95.css\" rel=\"prefetch\"><link href=\"/css/chunk-43c8b8a6.0363d940.css\" rel=\"prefetch\"><link href=\"/css/chunk-440c732d.52ca53fa.css\" rel=\"prefetch\"><link href=\"/css/chunk-451bd6e4.cf4a5c9a.css\" rel=\"prefetch\"><link href=\"/css/chunk-454f15d7.9cedb670.css\" rel=\"prefetch\"><link href=\"/css/chunk-52600c9a.30d2fda5.css\" rel=\"prefetch\"><link href=\"/css/chunk-539a60a8.f5b43379.css\" rel=\"prefetch\"><link href=\"/css/chunk-55a64c1a.7ec052e8.css\" rel=\"prefetch\"><link href=\"/css/chunk-55b3bd4f.9deffc25.css\" rel=\"prefetch\"><link href=\"/css/chunk-5796ba86.3eb39362.css\" rel=\"prefetch\"><link href=\"/css/chunk-5c972f57.e544df8f.css\" rel=\"prefetch\"><link href=\"/css/chunk-60135f9d.8c9c8ce3.css\" rel=\"prefetch\"><link href=\"/css/chunk-628b8923.90308cf1.css\" rel=\"prefetch\"><link href=\"/css/chunk-6292cbf6.20d0f126.css\" rel=\"prefetch\"><link href=\"/css/chunk-682531ae.95ee279b.css\" rel=\"prefetch\"><link href=\"/css/chunk-6c91d53f.f639b3dc.css\" rel=\"prefetch\"><link href=\"/css/chunk-6fa9c794.f3ca82c5.css\" rel=\"prefetch\"><link href=\"/css/chunk-728ba5c8.8f41441a.css\" rel=\"prefetch\"><link href=\"/css/chunk-7624f3b2.c9f1ed5b.css\" rel=\"prefetch\"><link href=\"/css/chunk-7a32c760.126d6eeb.css\" rel=\"prefetch\"><link href=\"/css/chunk-7a770f61.f2c8bb55.css\" rel=\"prefetch\"><link href=\"/css/chunk-7db7a832.940d44da.css\" rel=\"prefetch\"><link href=\"/css/chunk-7f411de6.177acfc5.css\" rel=\"prefetch\"><link href=\"/css/chunk-821bef76.2b447776.css\" rel=\"prefetch\"><link href=\"/css/chunk-83672970.b92fd94b.css\" rel=\"prefetch\"><link href=\"/css/chunk-8f89e89a.a2c59f74.css\" rel=\"prefetch\"><link href=\"/css/chunk-8fd4284c.7eb3fc9a.css\" rel=\"prefetch\"><link href=\"/css/chunk-9fae1024.61f480b3.css\" rel=\"prefetch\"><link href=\"/css/chunk-aaa72a1c.26e20c63.css\" rel=\"prefetch\"><link href=\"/css/chunk-c2464b3c.c455881d.css\" rel=\"prefetch\"><link href=\"/css/chunk-c8487320.8628cd72.css\" rel=\"prefetch\"><link href=\"/css/chunk-cb4e39d2.46d00242.css\" rel=\"prefetch\"><link href=\"/css/chunk-d7ccdaf2.f30c9cdb.css\" rel=\"prefetch\"><link href=\"/css/chunk-d881f514.b049ea9d.css\" rel=\"prefetch\"><link href=\"/css/chunk-d9807df4.fc4ea51a.css\" rel=\"prefetch\"><link href=\"/css/chunk-db24e1a6.b8dae6bb.css\" rel=\"prefetch\"><link href=\"/css/chunk-e2ba1498.f18e198c.css\" rel=\"prefetch\"><link href=\"/css/chunk-e4b11e3a.3faada6f.css\" rel=\"prefetch\"><link href=\"/css/chunk-f5b18076.23ad1257.css\" rel=\"prefetch\"><link href=\"/css/chunk-f72b4bdc.5e958005.css\" rel=\"prefetch\"><link href=\"/js/chunk-010a5c76.e3d05a5d.js\" rel=\"prefetch\"><link href=\"/js/chunk-03f3b68e.53653c63.js\" rel=\"prefetch\"><link href=\"/js/chunk-07c01542.9dfa0cfd.js\" rel=\"prefetch\"><link href=\"/js/chunk-08ab1660.92a1538c.js\" rel=\"prefetch\"><link href=\"/js/chunk-12aec050.7c8b8293.js\" rel=\"prefetch\"><link href=\"/js/chunk-13cca8d4.4d971653.js\" rel=\"prefetch\"><link href=\"/js/chunk-27c7bd02.1240a4bc.js\" rel=\"prefetch\"><link href=\"/js/chunk-2d0a30d8.594e1ad8.js\" rel=\"prefetch\"><link href=\"/js/chunk-2d20dc1d.0e2f4632.js\" rel=\"prefetch\"><link href=\"/js/chunk-2d22fd13.fdb3cfd9.js\" rel=\"prefetch\"><link href=\"/js/chunk-2d9e0546.01ce5a3b.js\" rel=\"prefetch\"><link href=\"/js/chunk-2ea12c41.d6ea2826.js\" rel=\"prefetch\"><link href=\"/js/chunk-2ec8d6f1.876f4c4e.js\" rel=\"prefetch\"><link href=\"/js/chunk-30a34550.7c76e3e0.js\" rel=\"prefetch\"><link href=\"/js/chunk-31e6dc40.870b3173.js\" rel=\"prefetch\"><link href=\"/js/chunk-33766cde.25ecfb65.js\" rel=\"prefetch\"><link href=\"/js/chunk-342c2c78.ab66e213.js\" rel=\"prefetch\"><link href=\"/js/chunk-34f397e7.5cd7f46b.js\" rel=\"prefetch\"><link href=\"/js/chunk-38536ede.d6642d9c.js\" rel=\"prefetch\"><link href=\"/js/chunk-39d2421e.f466d8de.js\" rel=\"prefetch\"><link href=\"/js/chunk-3ab152cd.0b843de2.js\" rel=\"prefetch\"><link href=\"/js/chunk-3b2eb17f.0dc91b4f.js\" rel=\"prefetch\"><link href=\"/js/chunk-3bff396a.500ccee2.js\" rel=\"prefetch\"><link href=\"/js/chunk-41240a4b.11fabfa1.js\" rel=\"prefetch\"><link href=\"/js/chunk-43c8b8a6.ce4f42c3.js\" rel=\"prefetch\"><link href=\"/js/chunk-440c732d.a0add9c0.js\" rel=\"prefetch\"><link href=\"/js/chunk-451bd6e4.dde9930c.js\" rel=\"prefetch\"><link href=\"/js/chunk-454f15d7.88fd1ab0.js\" rel=\"prefetch\"><link href=\"/js/chunk-52600c9a.a52169d2.js\" rel=\"prefetch\"><link href=\"/js/chunk-539a60a8.37e5fcd2.js\" rel=\"prefetch\"><link href=\"/js/chunk-55a64c1a.f734fad7.js\" rel=\"prefetch\"><link href=\"/js/chunk-55b3bd4f.22415071.js\" rel=\"prefetch\"><link href=\"/js/chunk-5796ba86.31c8ed14.js\" rel=\"prefetch\"><link href=\"/js/chunk-5c972f57.5ad3b903.js\" rel=\"prefetch\"><link href=\"/js/chunk-60135f9d.528977c5.js\" rel=\"prefetch\"><link href=\"/js/chunk-628b8923.399d974d.js\" rel=\"prefetch\"><link href=\"/js/chunk-6292cbf6.8eb4ebcc.js\" rel=\"prefetch\"><link href=\"/js/chunk-682531ae.23deb406.js\" rel=\"prefetch\"><link href=\"/js/chunk-6c91d53f.7e48e94b.js\" rel=\"prefetch\"><link href=\"/js/chunk-6fa9c794.2c33f5a9.js\" rel=\"prefetch\"><link href=\"/js/chunk-728ba5c8.7489c257.js\" rel=\"prefetch\"><link href=\"/js/chunk-7624f3b2.5a35967e.js\" rel=\"prefetch\"><link href=\"/js/chunk-7a32c760.320acb0d.js\" rel=\"prefetch\"><link href=\"/js/chunk-7a770f61.98dee2eb.js\" rel=\"prefetch\"><link href=\"/js/chunk-7db7a832.7fa93e6a.js\" rel=\"prefetch\"><link href=\"/js/chunk-7f411de6.405120d6.js\" rel=\"prefetch\"><link href=\"/js/chunk-821bef76.607c2564.js\" rel=\"prefetch\"><link href=\"/js/chunk-83672970.e49ab44b.js\" rel=\"prefetch\"><link href=\"/js/chunk-8f89e89a.e6e3f9c8.js\" rel=\"prefetch\"><link href=\"/js/chunk-8fd4284c.3cf4a935.js\" rel=\"prefetch\"><link href=\"/js/chunk-9fae1024.357381bc.js\" rel=\"prefetch\"><link href=\"/js/chunk-aaa72a1c.30a2d3e6.js\" rel=\"prefetch\"><link href=\"/js/chunk-c2464b3c.644a950f.js\" rel=\"prefetch\"><link href=\"/js/chunk-c8487320.ff0eb27c.js\" rel=\"prefetch\"><link href=\"/js/chunk-cb4e39d2.c8b84c0e.js\" rel=\"prefetch\"><link href=\"/js/chunk-d7ccdaf2.3dc335d9.js\" rel=\"prefetch\"><link href=\"/js/chunk-d881f514.bae94913.js\" rel=\"prefetch\"><link href=\"/js/chunk-d9807df4.4998d02e.js\" rel=\"prefetch\"><link href=\"/js/chunk-db24e1a6.d757a52d.js\" rel=\"prefetch\"><link href=\"/js/chunk-e2ba1498.143185e8.js\" rel=\"prefetch\"><link href=\"/js/chunk-e4b11e3a.41451435.js\" rel=\"prefetch\"><link href=\"/js/chunk-f5b18076.fad73ee9.js\" rel=\"prefetch\"><link href=\"/js/chunk-f72b4bdc.a618ac3c.js\" rel=\"prefetch\"><link href=\"/css/app.69d9cc28.css\" rel=\"preload\" as=\"style\"><link href=\"/css/chunk-vendors.4ade8616.css\" rel=\"preload\" as=\"style\"><link href=\"/js/app.e7c0fa0c.js\" rel=\"preload\" as=\"script\"><link href=\"/js/chunk-vendors.1d7f5fab.js\" rel=\"preload\" as=\"script\"><link href=\"/css/chunk-vendors.4ade8616.css\" rel=\"stylesheet\"><link href=\"/css/app.69d9cc28.css\" rel=\"stylesheet\"><script async=\"\" src=\"https://script.hotjar.com/modules.59fae23e8e8310b9fca6.js\" charset=\"utf-8\"></script><style type=\"text/css\">iframe#_hjRemoteVarsFrame {display: none !important; width: 1px !important; height: 1px !important; opacity: 0 !important; pointer-events: none !important;}</style><style type=\"text/css\" data-fbcssmodules=\"css:fb.css.basecss:fb.css.dialog css:fb.css.iframewidget css:fb.css.customer_chat_plugin_iframe\">.fb_hidden{position:absolute;top:-10000px;z-index:10001}.fb_reposition{overflow:hidden;position:relative}.fb_invisible{display:none}.fb_reset{background:none;border:0;border-spacing:0;color:#000;cursor:auto;direction:ltr;font-family:\"lucida grande\", tahoma, verdana, arial, sans-serif;font-size:11px;font-style:normal;font-variant:normal;font-weight:normal;letter-spacing:normal;line-height:1;margin:0;overflow:visible;padding:0;text-align:left;text-decoration:none;text-indent:0;text-shadow:none;text-transform:none;visibility:visible;white-space:normal;word-spacing:normal}.fb_reset>div{overflow:hidden}@keyframes fb_transform{from{opacity:0;transform:scale(.95)}to{opacity:1;transform:scale(1)}}.fb_animate{animation:fb_transform .3s forwards}\\n.fb_dialog{background:rgba(82, 82, 82, .7);position:absolute;top:-10000px;z-index:10001}.fb_dialog_advanced{border-radius:8px;padding:10px}.fb_dialog_content{background:#fff;color:#373737}.fb_dialog_close_icon{background:url(https://static.xx.fbcdn.net/rsrc.php/v3/yq/r/IE9JII6Z1Ys.png) no-repeat scroll 0 0 transparent;cursor:pointer;display:block;height:15px;position:absolute;right:18px;top:17px;width:15px}.fb_dialog_mobile .fb_dialog_close_icon{left:5px;right:auto;top:5px}.fb_dialog_padding{background-color:transparent;position:absolute;width:1px;z-index:-1}.fb_dialog_close_icon:hover{background:url(https://static.xx.fbcdn.net/rsrc.php/v3/yq/r/IE9JII6Z1Ys.png) no-repeat scroll 0 -15px transparent}.fb_dialog_close_icon:active{background:url(https://static.xx.fbcdn.net/rsrc.php/v3/yq/r/IE9JII6Z1Ys.png) no-repeat scroll 0 -30px transparent}.fb_dialog_iframe{line-height:0}.fb_dialog_content .dialog_title{background:#6d84b4;border:1px solid #365899;color:#fff;font-size:14px;font-weight:bold;margin:0}.fb_dialog_content .dialog_title>span{background:url(https://static.xx.fbcdn.net/rsrc.php/v3/yd/r/Cou7n-nqK52.gif) no-repeat 5px 50%;float:left;padding:5px 0 7px 26px}body.fb_hidden{height:100%;left:0;margin:0;overflow:visible;position:absolute;top:-10000px;transform:none;width:100%}.fb_dialog.fb_dialog_mobile.loading{background:url(https://static.xx.fbcdn.net/rsrc.php/v3/ya/r/3rhSv5V8j3o.gif) white no-repeat 50% 50%;min-height:100%;min-width:100%;overflow:hidden;position:absolute;top:0;z-index:10001}.fb_dialog.fb_dialog_mobile.loading.centered{background:none;height:auto;min-height:initial;min-width:initial;width:auto}.fb_dialog.fb_dialog_mobile.loading.centered #fb_dialog_loader_spinner{width:100%}.fb_dialog.fb_dialog_mobile.loading.centered .fb_dialog_content{background:none}.loading.centered #fb_dialog_loader_close{clear:both;color:#fff;display:block;font-size:18px;padding-top:20px}#fb-root #fb_dialog_ipad_overlay{background:rgba(0, 0, 0, .4);bottom:0;left:0;min-height:100%;position:absolute;right:0;top:0;width:100%;z-index:10000}#fb-root #fb_dialog_ipad_overlay.hidden{display:none}.fb_dialog.fb_dialog_mobile.loading iframe{visibility:hidden}.fb_dialog_mobile .fb_dialog_iframe{position:sticky;top:0}.fb_dialog_content .dialog_header{background:linear-gradient(from(#738aba), to(#2c4987));border-bottom:1px solid;border-color:#043b87;box-shadow:white 0 1px 1px -1px inset;color:#fff;font:bold 14px Helvetica, sans-serif;text-overflow:ellipsis;text-shadow:rgba(0, 30, 84, .296875) 0 -1px 0;vertical-align:middle;white-space:nowrap}.fb_dialog_content .dialog_header table{height:43px;width:100%}.fb_dialog_content .dialog_header td.header_left{font-size:12px;padding-left:5px;vertical-align:middle;width:60px}.fb_dialog_content .dialog_header td.header_right{font-size:12px;padding-right:5px;vertical-align:middle;width:60px}.fb_dialog_content .touchable_button{background:linear-gradient(from(#4267B2), to(#2a4887));background-clip:padding-box;border:1px solid #29487d;border-radius:3px;display:inline-block;line-height:18px;margin-top:3px;max-width:85px;padding:4px 12px;position:relative}.fb_dialog_content .dialog_header .touchable_button input{background:none;border:none;color:#fff;font:bold 12px Helvetica, sans-serif;margin:2px -12px;padding:2px 6px 3px 6px;text-shadow:rgba(0, 30, 84, .296875) 0 -1px 0}.fb_dialog_content .dialog_header .header_center{color:#fff;font-size:16px;font-weight:bold;line-height:18px;text-align:center;vertical-align:middle}.fb_dialog_content .dialog_content{background:url(https://static.xx.fbcdn.net/rsrc.php/v3/y9/r/jKEcVPZFk-2.gif) no-repeat 50% 50%;border:1px solid #4a4a4a;border-bottom:0;border-top:0;height:150px}.fb_dialog_content .dialog_footer{background:#f5f6f7;border:1px solid #4a4a4a;border-top-color:#ccc;height:40px}#fb_dialog_loader_close{float:left}.fb_dialog.fb_dialog_mobile .fb_dialog_close_icon{visibility:hidden}#fb_dialog_loader_spinner{animation:rotateSpinner 1.2s linear infinite;background-color:transparent;background-image:url(https://static.xx.fbcdn.net/rsrc.php/v3/yD/r/t-wz8gw1xG1.png);background-position:50% 50%;background-repeat:no-repeat;height:24px;width:24px}@keyframes rotateSpinner{0%{transform:rotate(0deg)}100%{transform:rotate(360deg)}}\\n.fb_iframe_widget{display:inline-block;position:relative}.fb_iframe_widget span{display:inline-block;position:relative;text-align:justify}.fb_iframe_widget iframe{position:absolute}.fb_iframe_widget_fluid_desktop,.fb_iframe_widget_fluid_desktop span,.fb_iframe_widget_fluid_desktop iframe{max-width:100%}.fb_iframe_widget_fluid_desktop iframe{min-width:220px;position:relative}.fb_iframe_widget_lift{z-index:1}.fb_iframe_widget_fluid{display:inline}.fb_iframe_widget_fluid span{width:100%}\\n.fb_mpn_mobile_landing_page_slide_out{animation-duration:200ms;animation-name:fb_mpn_landing_page_slide_out;transition-timing-function:ease-in}.fb_mpn_mobile_landing_page_slide_out_from_left{animation-duration:200ms;animation-name:fb_mpn_landing_page_slide_out_from_left;transition-timing-function:ease-in}.fb_mpn_mobile_landing_page_slide_up{animation-duration:500ms;animation-name:fb_mpn_landing_page_slide_up;transition-timing-function:ease-in}.fb_mpn_mobile_bounce_in{animation-duration:300ms;animation-name:fb_mpn_bounce_in;transition-timing-function:ease-in}.fb_mpn_mobile_bounce_out{animation-duration:300ms;animation-name:fb_mpn_bounce_out;transition-timing-function:ease-in}.fb_customer_chat_bounce_in_v2{animation-duration:300ms;animation-name:fb_bounce_in_v2;transition-timing-function:ease-in}.fb_customer_chat_bounce_in_from_left{animation-duration:300ms;animation-name:fb_bounce_in_from_left;transition-timing-function:ease-in}.fb_customer_chat_bounce_out_v2{animation-duration:300ms;animation-name:fb_bounce_out_v2;transition-timing-function:ease-in}.fb_customer_chat_bounce_out_from_left{animation-duration:300ms;animation-name:fb_bounce_out_from_left;transition-timing-function:ease-in}.fb_customer_chat_bounce_in_v2_mobile_chat_started{animation-duration:300ms;animation-name:fb_bounce_in_v2_mobile_chat_started;transition-timing-function:ease-in}.fb_customer_chat_bubble_pop_in{animation-duration:250ms;animation-name:fb_customer_chat_bubble_bounce_in_animation}.fb_customer_chat_bubble_animated_no_badge{box-shadow:0 3px 12px rgba(0, 0, 0, .15);transition:box-shadow 150ms linear}.fb_customer_chat_bubble_animated_no_badge:hover{box-shadow:0 5px 24px rgba(0, 0, 0, .3)}.fb_customer_chat_bubble_animated_with_badge{box-shadow:-5px 4px 14px rgba(0, 0, 0, .15);transition:box-shadow 150ms linear}.fb_customer_chat_bubble_animated_with_badge:hover{box-shadow:-5px 8px 24px rgba(0, 0, 0, .2)}.fb_invisible_flow{display:inherit;height:0;overflow-x:hidden;width:0}.fb_mobile_overlay_active{background-color:#fff;height:100%;overflow:hidden;position:fixed;visibility:hidden;width:100%}.fb_new_ui_mobile_overlay_active{overflow:hidden}@keyframes fb_mpn_landing_page_slide_in{0%{border-radius:50%;margin:0 24px;width:60px}40%{border-radius:18px}100%{margin:0 12px;width:100% - 24px}}@keyframes fb_mpn_landing_page_slide_in_from_left{0%{border-radius:50%;left:12px;margin:0 24px;width:60px}40%{border-radius:18px}100%{left:12px;margin:0 12px;width:100% - 24px}}@keyframes fb_mpn_landing_page_slide_out{0%{margin:0 12px;width:100% - 24px}60%{border-radius:18px}100%{border-radius:50%;margin:0 24px;width:60px}}@keyframes fb_mpn_landing_page_slide_out_from_left{0%{left:12px;width:100% - 24px}60%{border-radius:18px}100%{border-radius:50%;left:12px;width:60px}}@keyframes fb_mpn_landing_page_slide_up{0%{bottom:0;opacity:0}100%{bottom:24px;opacity:1}}@keyframes fb_mpn_bounce_in{0%{opacity:.5;top:100%}100%{opacity:1;top:0}}@keyframes fb_mpn_bounce_out{0%{opacity:1;top:0}100%{opacity:.5;top:100%}}@keyframes fb_bounce_in_v2{0%{opacity:0;transform:scale(0, 0);transform-origin:bottom right}50%{transform:scale(1.03, 1.03);transform-origin:bottom right}100%{opacity:1;transform:scale(1, 1);transform-origin:bottom right}}@keyframes fb_bounce_in_from_left{0%{opacity:0;transform:scale(0, 0);transform-origin:bottom left}50%{transform:scale(1.03, 1.03);transform-origin:bottom left}100%{opacity:1;transform:scale(1, 1);transform-origin:bottom left}}@keyframes fb_bounce_in_v2_mobile_chat_started{0%{opacity:0;top:20px}100%{opacity:1;top:0}}@keyframes fb_bounce_out_v2{0%{opacity:1;transform:scale(1, 1);transform-origin:bottom right}100%{opacity:0;transform:scale(0, 0);transform-origin:bottom right}}@keyframes fb_bounce_out_from_left{0%{opacity:1;transform:scale(1, 1);transform-origin:bottom left}100%{opacity:0;transform:scale(0, 0);transform-origin:bottom left}}@keyframes fb_bounce_out_v2_mobile_chat_started{0%{opacity:1;top:0}100%{opacity:0;top:20px}}@keyframes fb_customer_chat_bubble_bounce_in_animation{0%{bottom:6pt;opacity:0;transform:scale(0, 0);transform-origin:center}70%{bottom:18pt;opacity:1;transform:scale(1.2, 1.2)}100%{transform:scale(1, 1)}}</style></head><body style=\"padding-top: 80px;\"><div id=\"fb-root\" class=\" fb_reset\"><div style=\"position: absolute; top: -10000px; width: 0px; height: 0px;\"><div></div></div><div class=\"fb-customerchat fb_invisible_flow fb_iframe_widget\" attribution=\"install_email\" page_id=\"1866791466884621\" theme_color=\"#1C3C6B\" fb-xfbml-state=\"rendered\" fb-iframe-plugin-query=\"app_id=936682426725239&amp;attribution=install_email&amp;container_width=0&amp;locale=en_US&amp;page_id=1866791466884621&amp;request_time=1611595316611&amp;sdk=joey&amp;theme_color=%231C3C6B\"><span style=\"vertical-align: bottom; width: 1000px; height: 0px;\"><iframe name=\"f1f2b0414e13364\" width=\"1000px\" height=\"1000px\" title=\"\" frameborder=\"0\" allowtransparency=\"true\" allowfullscreen=\"true\" scrolling=\"no\" allow=\"encrypted-media\" src=\"https://www.facebook.com/v6.0/plugins/customerchat.php?app_id=936682426725239&amp;attribution=install_email&amp;channel=https%3A%2F%2Fstaticxx.facebook.com%2Fx%2Fconnect%2Fxd_arbiter%2F%3Fversion%3D46%23cb%3Df7defcc069fff8%26domain%3Dwww.gozayaan.com%26origin%3Dhttps%253A%252F%252Fwww.gozayaan.com%252Ff1cf8558ea20074%26relation%3Dparent.parent&amp;container_width=0&amp;locale=en_US&amp;page_id=1866791466884621&amp;request_time=1611595316611&amp;sdk=joey&amp;theme_color=%231C3C6B\" style=\"padding: 0px; position: fixed; z-index: 2147483646; border-radius: 16px; top: auto; width: 399px; max-height: 0px; background: none; bottom: 85px; right: 4px; margin-right: 12px; height: 448px; visibility: visible; min-height: 0px;\" class=\" fb_customer_chat_bounce_out_v2\" data-testid=\"dialog_iframe\"></iframe></span></div><div class=\"fb_dialog  fb_dialog_advanced\" style=\"overflow: visible; z-index: 2147483644;\"><div class=\"fb_dialog_content\"><iframe name=\"blank_f1f2b0414e13364\" width=\"60px\" tabindex=\"-1\" data-testid=\"bubble_iframe\" frameborder=\"0\" allowtransparency=\"true\" allowfullscreen=\"true\" scrolling=\"no\" allow=\"encrypted-media\" src=\"https://www.facebook.com/v6.0/plugins/customer_chat/bubble\" style=\"margin: 0px 12px; padding: 0px; position: fixed; z-index: 2147483644; bottom: 24px; top: auto; height: 60px; width: 60px; border-radius: 29px; box-shadow: rgba(0, 0, 0, 0.15) 0px 4px 12px 0px; background: none; display: block; right: 12px;\"></iframe><iframe name=\"unread_f1f2b0414e13364\" tabindex=\"-1\" data-testid=\"unread_iframe\" frameborder=\"0\" allowtransparency=\"true\" allowfullscreen=\"true\" scrolling=\"no\" allow=\"encrypted-media\" src=\"https://www.facebook.com/v6.0/plugins/customer_chat/bubble\" style=\"bottom: 68px; position: fixed; width: 20px; height: 24px; z-index: 2147483645; border-radius: 4pt; background: none; right: 22px;\"></iframe></div></div></div><script>window.fbAsyncInit = function () {\\n    FB.init({\\n      appId: \\'936682426725239\\',\\n      xfbml: true,\\n      version: \\'v6.0\\'\\n    });\\n  };\\n\\n  (function (d, s, id) {\\n    var js,\\n      fjs = d.getElementsByTagName(s)[0];\\n    if (d.getElementById(id)) return;\\n    js = d.createElement(s);\\n    js.id = id;\\n    js.src = \\'https://connect.facebook.net/en_US/sdk/xfbml.customerchat.js\\';\\n    fjs.parentNode.insertBefore(js, fjs);\\n  }(document, \\'script\\', \\'facebook-jssdk\\'));</script><noscript><strong>We\\'re sorry but Go Zayaan doesn\\'t work properly without JavaScript enabled. Please enable it to continue.</strong></noscript><div id=\"app\"><div data-v-3b60da4f=\"\" class=\"home\"><div data-v-3b60da4f=\"\" id=\"brand-header\" class=\"transparent\"><!----><div class=\"container\"><div class=\"row\"><div class=\"col-12 custom-column\"><div class=\"brand\"><a href=\"/\" class=\"brand-logo active-exact active\"><img src=\"/img/go-zayaan-logo-white.8dc3be4d.svg\" class=\"logo\"></a></div><nav class=\"brand-nav\"><ul><li><a href=\"/?search=flight\" class=\"\"><img src=\"/img/flight.27f98987.svg\"><span>Flight</span></a></li><li><a href=\"/?search=hotel\" class=\"\"><img src=\"/img/hotel.8f2830cc.svg\"><span>Hotel</span></a></li><li><a href=\"/?search=tour\" class=\"\"><img src=\"/img/icon-Tour.ca16ca10.svg\"><span>Tour</span></a></li><li><a href=\"/?search=visa\" class=\"\"><img src=\"/img/visa.ad7b5d66.svg\"><span>Visa</span></a></li><li><a href=\"/travelloan\" class=\"\"><img src=\"/img/loan.f08f5f81.svg\"><span>Travel Loan</span></a></li></ul></nav><div class=\"user-auth\"><!----><div class=\"auth-action\"><button class=\"brand-btn\">\\n                  Sign In\\n                </button></div></div></div></div></div><div id=\"header-bottom\"><ul><li><a href=\"/\" class=\"active-exact active\"><img src=\"/img/home.d3e9b660.svg\"><img src=\"/img/home-a.78721825.svg\" class=\"active\">\\n              Home\\n            </a></li><li><a href=\"/account/signin\" class=\"\"><img src=\"/img/bookings.59b86ced.svg\" class=\"custom-active\"><!---->\\n              Bookings\\n            </a></li><li><a href=\"/account/signin\" class=\"\"><img src=\"/img/loans.9c77ee26.svg\" class=\"custom-active\"><!---->\\n              Loans\\n            </a></li><li><a href=\"/account/signin\" class=\"\"><img src=\"/img/account.c6c9daba.svg\" class=\"custom-active\"><!---->\\n              Account\\n            </a></li></ul></div></div><div data-v-3b60da4f=\"\" class=\"home-banner\"></div><div data-v-3b60da4f=\"\" class=\"searchbar-wrapper\"><div data-v-3b60da4f=\"\" class=\"container\"><div data-v-3b60da4f=\"\" class=\"row\"><div data-v-3b60da4f=\"\" class=\"col-12\"><div data-v-073b0ee6=\"\" data-v-3b60da4f=\"\" id=\"searchbar\" class=\"full\"><div data-v-073b0ee6=\"\" class=\"search-type\"><span data-v-073b0ee6=\"\" class=\"search-type-tab active\"><img data-v-073b0ee6=\"\" src=\"/img/icon-Flight.bc448c56.svg\">\\n            Flight\\n        </span><span data-v-073b0ee6=\"\" class=\"search-type-tab\"><img data-v-073b0ee6=\"\" src=\"/img/icon-Hotel.5d80c2e2.svg\">\\n            Hotel\\n        </span><span data-v-073b0ee6=\"\" class=\"search-type-tab\"><img data-v-073b0ee6=\"\" src=\"/img/icon-Tour.ca16ca10.svg\">\\n            Tour\\n        </span><span data-v-073b0ee6=\"\" class=\"search-type-tab\"><img data-v-073b0ee6=\"\" src=\"/img/icon-Visa.87e699da.svg\">\\n            Visa\\n        </span></div><div data-v-073b0ee6=\"\" class=\"flight\"><div data-v-073b0ee6=\"\" class=\"flight-type-wrapper\"><label data-v-073b0ee6=\"\" class=\"radio\"><input data-v-073b0ee6=\"\" type=\"radio\" name=\"flight-type\" value=\"One Way\"><span data-v-073b0ee6=\"\" class=\"radio-btn\"></span><span data-v-073b0ee6=\"\" class=\"flight-type-text\">One Way</span></label><label data-v-073b0ee6=\"\" class=\"radio\"><input data-v-073b0ee6=\"\" type=\"radio\" name=\"flight-type\" value=\"Round Way\"><span data-v-073b0ee6=\"\" class=\"radio-btn\"></span><span data-v-073b0ee6=\"\" class=\"flight-type-text\">Round Way</span></label><label data-v-073b0ee6=\"\" class=\"radio\"><input data-v-073b0ee6=\"\" type=\"radio\" name=\"flight-type\" value=\"Multi City\"><span data-v-073b0ee6=\"\" class=\"radio-btn\"></span><span data-v-073b0ee6=\"\" class=\"flight-type-text\">Multi City</span></label></div><div data-v-073b0ee6=\"\" class=\"flight-search bar\"><div data-v-073b0ee6=\"\" class=\"box location from\"><span data-v-073b0ee6=\"\" class=\"label\">From</span><div data-v-073b0ee6=\"\" class=\"value\">Dhaka</div><span data-v-073b0ee6=\"\" class=\"sub-value\">\\n              DAC, Hazrat Shahjalal International Airport\\n            </span><!----></div><div data-v-073b0ee6=\"\" class=\"box location to has-swapper\"><span data-v-073b0ee6=\"\" class=\"swapper\"></span><span data-v-073b0ee6=\"\" class=\"label\">To</span><div data-v-073b0ee6=\"\" class=\"value\">Cox\\'s Bazar</div><span data-v-073b0ee6=\"\" class=\"sub-value\">\\n              CXB, Cox\\'s Bazar Airport\\n            </span><!----></div><div data-v-073b0ee6=\"\" class=\"box date depart\"><span data-v-073b0ee6=\"\" class=\"label\">Journey Date</span><div data-v-073b0ee6=\"\" class=\"value\">\\n                26 <span data-v-073b0ee6=\"\">Jan\\'21</span></div><span data-v-073b0ee6=\"\" class=\"sub-value\">\\n                Tuesday\\n              </span><!----></div><div data-v-073b0ee6=\"\" class=\"box date return\"><span data-v-073b0ee6=\"\" class=\"label\">Return Date</span><span data-v-073b0ee6=\"\" class=\"sub-value inline-style\">\\n                Save more on return flight\\n              </span></div><div data-v-073b0ee6=\"\" class=\"box traveler\"><span data-v-073b0ee6=\"\" class=\"label\">Traveler, Class</span><div data-v-073b0ee6=\"\" class=\"value\">1 <span data-v-073b0ee6=\"\">Traveler</span></div><span data-v-073b0ee6=\"\" class=\"sub-value\">\\n                Economy\\n              </span><!----></div><!----></div></div><!----><!----><!----><!----><div data-v-073b0ee6=\"\" class=\"search-btn-container\"><button data-v-073b0ee6=\"\" type=\"button\" class=\"search-btn\">Search</button></div></div></div></div></div></div><div data-v-3b60da4f=\"\" class=\"promotions\"><div data-v-a63b2262=\"\" data-v-3b60da4f=\"\" class=\"promotion-wrapper\"><div data-v-a63b2262=\"\" class=\"container\"><div data-v-a63b2262=\"\" class=\"row\"><div data-v-a63b2262=\"\" class=\"col-12\"><div data-v-a63b2262=\"\" class=\"promotion-navbar\"><h4 data-v-a63b2262=\"\">Hot Deals</h4><div data-v-a63b2262=\"\" class=\"promotion-tab\"><ul data-v-a63b2262=\"\"><li data-v-a63b2262=\"\" class=\"active\">All</li><li data-v-a63b2262=\"\" class=\"\">Bank Offers</li><li data-v-a63b2262=\"\" class=\"\">Domestic Hotel</li><li data-v-a63b2262=\"\" class=\"\">Int\\'l Flight</li><li data-v-a63b2262=\"\" class=\"\">Tour</li><li data-v-a63b2262=\"\" class=\"\">Domestic Flight</li></ul></div></div><div data-v-a63b2262=\"\" class=\"brand-carousel-multiple\"><div data-v-a63b2262=\"\" class=\"arrows\"><div data-v-a63b2262=\"\" class=\"arrow left topSlider-left\"></div><div data-v-a63b2262=\"\" class=\"arrow right topSlider-right\"></div></div><div data-v-a63b2262=\"\" class=\"promotion-items\"><div data-v-a63b2262=\"\" class=\"promotion-content\"><div data-v-a63b2262=\"\" class=\"img-placeholder\"><img data-v-a63b2262=\"\" src=\"https://gozayaan.sgp1.digitaloceanspaces.com/media/discount_images/campaign_Hotel-HOT-DEAL.png\"></div><div data-v-a63b2262=\"\" class=\"text-wrapper\"><p data-v-a63b2262=\"\" class=\"promotion-title\">\\n                      Up to 55% Discount on Domestic Hotels &amp; Resorts\\n                    </p><p data-v-a63b2262=\"\" class=\"promotion-subtext\">\\n                      Applicable only for BRAC, City AMEX, Dhaka Bank, EBL, LankaBangla, Standard Chartered &amp; UCB debit &amp; credit cards payment. Available till 31 Jan 2021.\\n                    </p></div><div data-v-a63b2262=\"\" class=\"promo-code\"><div data-v-a63b2262=\"\" class=\"code-wrapper\"><img data-v-a63b2262=\"\" src=\"/img/icon-promo-deal.beafc49c.svg\" alt=\"promo-deal-icon\"><span data-v-a63b2262=\"\" class=\"code-tag\">GOSTAY1155</span></div><div data-v-a63b2262=\"\" class=\"btn-wrapper\"><!----></div></div></div><div data-v-a63b2262=\"\" class=\"promotion-content\"><div data-v-a63b2262=\"\" class=\"img-placeholder\"><img data-v-a63b2262=\"\" src=\"https://gozayaan.sgp1.digitaloceanspaces.com/media/discount_images/campaign_hotel-HOT-DEAL-Scb.png\"></div><div data-v-a63b2262=\"\" class=\"text-wrapper\"><p data-v-a63b2262=\"\" class=\"promotion-title\">\\n                      Up to 65% Discount on Domestic Hotels &amp; Resorts\\n                    </p><p data-v-a63b2262=\"\" class=\"promotion-subtext\">\\n                      Applicable only for Standard Chartered credit cards. Available till 31 Jan 2021\\n                    </p></div><div data-v-a63b2262=\"\" class=\"promo-code\"><div data-v-a63b2262=\"\" class=\"code-wrapper\"><img data-v-a63b2262=\"\" src=\"/img/icon-promo-deal.beafc49c.svg\" alt=\"promo-deal-icon\"><span data-v-a63b2262=\"\" class=\"code-tag\">SCSTAY1165</span></div><div data-v-a63b2262=\"\" class=\"btn-wrapper\"><a data-v-a63b2262=\"\" href=\"/campaign/sc\" class=\"brand-btn\" target=\"_blank\"><i data-v-a63b2262=\"\" data-v-09396f38=\"\" class=\"fas fa-arrow-up\"></i>\\n                        Learn More\\n                      </a></div></div></div><div data-v-a63b2262=\"\" class=\"promotion-content\"><div data-v-a63b2262=\"\" class=\"img-placeholder\"><img data-v-a63b2262=\"\" src=\"https://gozayaan.sgp1.digitaloceanspaces.com/media/discount_images/campaign_Hot-deals-8-Discount.jpg\"></div><div data-v-a63b2262=\"\" class=\"text-wrapper\"><p data-v-a63b2262=\"\" class=\"promotion-title\">\\n                      Up to 8% discount on Int\\'l Flights\\n                    </p><p data-v-a63b2262=\"\" class=\"promotion-subtext\">\\n                      Discount applicable on base fare. Available for all Go Zayaan customers for any payment methods. Valid till 31 Jan 2021.\\n                    </p></div><div data-v-a63b2262=\"\" class=\"promo-code\"><div data-v-a63b2262=\"\" class=\"code-wrapper\"><img data-v-a63b2262=\"\" src=\"/img/icon-promo-deal.beafc49c.svg\" alt=\"promo-deal-icon\"><span data-v-a63b2262=\"\" class=\"code-tag\">GOFLY1105</span></div><div data-v-a63b2262=\"\" class=\"btn-wrapper\"><!----></div></div></div><div data-v-a63b2262=\"\" class=\"promotion-content\"><div data-v-a63b2262=\"\" class=\"img-placeholder\"><img data-v-a63b2262=\"\" src=\"https://gozayaan.sgp1.digitaloceanspaces.com/media/discount_images/campaign_Sarah-Resort-JPEG.jpg\"></div><div data-v-a63b2262=\"\" class=\"text-wrapper\"><p data-v-a63b2262=\"\" class=\"promotion-title\">\\n                      Flat 1,000 discount on Valentine Getaway\\n                    </p><p data-v-a63b2262=\"\" class=\"promotion-subtext\">\\n                      Available for BRAC, City AMEX, EBL, Standard Chartered Bank cards. Book till 7 Feb 2021\\n                    </p></div><div data-v-a63b2262=\"\" class=\"promo-code\"><div data-v-a63b2262=\"\" class=\"code-wrapper\"><img data-v-a63b2262=\"\" src=\"/img/icon-promo-deal.beafc49c.svg\" alt=\"promo-deal-icon\"><span data-v-a63b2262=\"\" class=\"code-tag\">LOVE2021</span></div><div data-v-a63b2262=\"\" class=\"btn-wrapper\"><a data-v-a63b2262=\"\" href=\"/valentine\" class=\"brand-btn\" target=\"_blank\"><i data-v-a63b2262=\"\" data-v-09396f38=\"\" class=\"fas fa-arrow-up\"></i>\\n                        Learn More\\n                      </a></div></div></div><div data-v-a63b2262=\"\" class=\"promotion-content\"><div data-v-a63b2262=\"\" class=\"img-placeholder\"><img data-v-a63b2262=\"\" src=\"https://gozayaan.sgp1.digitaloceanspaces.com/media/discount_images/campaign_Sundarbans-Hotedeals.png\"></div><div data-v-a63b2262=\"\" class=\"text-wrapper\"><p data-v-a63b2262=\"\" class=\"promotion-title\">\\n                      Up to 15% Discount on Sundarbans Tours\\n                    </p><p data-v-a63b2262=\"\" class=\"promotion-subtext\">\\n                      Available for Standard Chartered, City AMEX and bKash payment. Available till 28 Feb 2021.\\n                    </p></div><div data-v-a63b2262=\"\" class=\"promo-code\"><div data-v-a63b2262=\"\" class=\"code-wrapper\"><img data-v-a63b2262=\"\" src=\"/img/icon-promo-deal.beafc49c.svg\" alt=\"promo-deal-icon\"><span data-v-a63b2262=\"\" class=\"code-tag\">GOTOUR0115</span></div><div data-v-a63b2262=\"\" class=\"btn-wrapper\"><a data-v-a63b2262=\"\" href=\"/tour/list?location=1\" class=\"brand-btn\" target=\"_blank\"><i data-v-a63b2262=\"\" data-v-09396f38=\"\" class=\"fas fa-arrow-up\"></i>\\n                        Learn More\\n                      </a></div></div></div><div data-v-a63b2262=\"\" class=\"promotion-content\"><div data-v-a63b2262=\"\" class=\"img-placeholder\"><img data-v-a63b2262=\"\" src=\"https://gozayaan.sgp1.digitaloceanspaces.com/media/discount_images/campaign_Flight_Hot_Deal_SCB.png\"></div><div data-v-a63b2262=\"\" class=\"text-wrapper\"><p data-v-a63b2262=\"\" class=\"promotion-title\">\\n                      Up to 22% Discount on Domestic Air Tickets\\n                    </p><p data-v-a63b2262=\"\" class=\"promotion-subtext\">\\n                      Applicable only for Standard Chartered credit cards. Available till 31 Jan 2021.\\n                    </p></div><div data-v-a63b2262=\"\" class=\"promo-code\"><div data-v-a63b2262=\"\" class=\"code-wrapper\"><img data-v-a63b2262=\"\" src=\"/img/icon-promo-deal.beafc49c.svg\" alt=\"promo-deal-icon\"><span data-v-a63b2262=\"\" class=\"code-tag\">SCFLY1122</span></div><div data-v-a63b2262=\"\" class=\"btn-wrapper\"><a data-v-a63b2262=\"\" href=\"/campaign/sc\" class=\"brand-btn\" target=\"_blank\"><i data-v-a63b2262=\"\" data-v-09396f38=\"\" class=\"fas fa-arrow-up\"></i>\\n                        Learn More\\n                      </a></div></div></div><div data-v-a63b2262=\"\" class=\"promotion-content\"><div data-v-a63b2262=\"\" class=\"img-placeholder\"><img data-v-a63b2262=\"\" src=\"https://gozayaan.sgp1.digitaloceanspaces.com/media/discount_images/campaign_Flight-HOT-DEAL.png\"></div><div data-v-a63b2262=\"\" class=\"text-wrapper\"><p data-v-a63b2262=\"\" class=\"promotion-title\">\\n                      Up to 12% Discount on Domestic Air Tickets\\n                    </p><p data-v-a63b2262=\"\" class=\"promotion-subtext\">\\n                      Applicable only for BRAC, City AMEX, Dhaka Bank, EBL, LankaBangla, Standard Chartered &amp; UCB debit &amp; credit cards payment. Available till 31 Jan 2021.\\n                    </p></div><div data-v-a63b2262=\"\" class=\"promo-code\"><div data-v-a63b2262=\"\" class=\"code-wrapper\"><img data-v-a63b2262=\"\" src=\"/img/icon-promo-deal.beafc49c.svg\" alt=\"promo-deal-icon\"><span data-v-a63b2262=\"\" class=\"code-tag\">GOFLY1112</span></div><div data-v-a63b2262=\"\" class=\"btn-wrapper\"><!----></div></div></div></div></div></div></div></div><div data-v-a63b2262=\"\" class=\"container\"><div data-v-a63b2262=\"\" class=\"row\"><div data-v-a63b2262=\"\" class=\"col-12\"><div data-v-a63b2262=\"\" class=\"brand-carousel-multiple\"><div data-v-a63b2262=\"\" class=\"arrows\"><div data-v-a63b2262=\"\" class=\"arrow left bottomLeftBtn\"></div><div data-v-a63b2262=\"\" class=\"arrow right bottomRightBtn\"></div></div><div data-v-a63b2262=\"\" class=\"gz-promotion-items\"><div data-v-a63b2262=\"\" class=\"gz-promotion-content\"><div data-v-a63b2262=\"\" class=\"content-placeholder tour no-ref\"></div></div><div data-v-a63b2262=\"\" class=\"gz-promotion-content\"><div data-v-a63b2262=\"\" class=\"content-placeholder travelloan\"><a data-v-a63b2262=\"\" href=\"/travelloan\" class=\"navigation-btn brand-btn\">Learn More</a></div></div><div data-v-a63b2262=\"\" class=\"gz-promotion-content\"><div data-v-a63b2262=\"\" class=\"content-placeholder scb-offer\"><a data-v-a63b2262=\"\" href=\"/offers/sc\" class=\"navigation-btn brand-btn\">Learn More</a></div></div></div></div></div></div></div></div></div><div data-v-3b60da4f=\"\" id=\"footer\"><div class=\"container\"><div class=\"row row-padding\"><div class=\"col-md-3\"><h6 class=\"text-regular-bold\">Discover</h6><ul class=\"footer-links\"><li class=\"footer-link\"><a href=\"/\" class=\"active-exact active\">Home</a></li><li class=\"footer-link\"><a href=\"/terms\" class=\"\">Terms</a></li><li class=\"footer-link\"><a href=\"/policies\" class=\"\">Policies</a></li></ul><ul class=\"footer-links\"><li class=\"footer-link\"><a href=\"/career\" class=\"\">Career</a></li></ul></div><div class=\"col-md-3 achievement\"><h6 class=\"text-regular-bold\">Our Achievements</h6><div class=\"badges\"><img src=\"/img/badge-finalist-2020.fa8bb2a7.png\"><img src=\"/img/badge-EWC.96a5f5db.png\"></div></div><div class=\"col-md-3 custom-text\"><h6 class=\"text-regular-bold\">Need Help ?</h6><p class=\"text-small-regular\">\\n            We are Always here for you! Knock us\\n            on Messenger anytime or Call our Hotline (Sat - Thu; 10AM - 10PM).\\n          </p><h6 class=\"text-regular-bold\">Payment Methods</h6><ul class=\"payment-methods\"><li class=\"payment-image\"><img src=\"/img/icon-payment-visa.1ebd86dc.svg\"></li><li class=\"payment-image\"><img src=\"/img/icon-payment-amex.2bed3e2c.svg\"></li><li class=\"payment-image\"><img src=\"/img/icon-payment-mastercard.ee62a017.svg\"></li></ul></div><div class=\"col-md-3\"><h6 class=\"text-regular-bold\">Contact</h6><ul class=\"footer-contact\"><li class=\"footer-link\"><a href=\"mailto:info@gozayaan.com\">info@gozayaan.com</a></li><li class=\"footer-link\"><a href=\"tel:+8809678332211\">+88 09678 332211</a></li></ul><ul class=\"social-icons\"><li class=\"social-icon\"><a href=\"https://www.facebook.com/GoZayaan/\" target=\"_blank\"><i class=\"icon fab fa-facebook-f\"></i></a></li><li class=\"social-icon\"><a href=\"https://www.youtube.com/channel/UCPcc3SEA1Ig3QMqNaW91-Ng\" target=\"_blank\"><i class=\"icon fab fa-youtube\"></i></a></li><li class=\"social-icon\"><a href=\"https://www.instagram.com/gozayaan/\" target=\"_blank\"><i class=\"icon fab fa-instagram\"></i></a></li></ul></div></div><hr class=\"separator\"><div class=\"row footer-copyright align-items-center\"><div class=\"col-6\"><img src=\"/img/go-zayaan-logo-white.8dc3be4d.svg\" class=\"footer-logo\"></div><div class=\"col-6\"><p class=\"text-small-regular text-right\">© Copyright Go Zayaan Ltd.</p></div></div></div></div></div><!----></div><script src=\"/js/chunk-vendors.1d7f5fab.js\"></script><script src=\"/js/app.e7c0fa0c.js\"></script><iframe name=\"_hjRemoteVarsFrame\" title=\"_hjRemoteVarsFrame\" id=\"_hjRemoteVarsFrame\" src=\"https://vars.hotjar.com/box-469cf41adb11dc78be68c1ae7f9457a4.html\" style=\"display: none !important; width: 1px !important; height: 1px !important; opacity: 0 !important; pointer-events: none !important;\"></iframe><div id=\"dengage-push-perm-slide\" class=\"dengage-push-perm-slide dn-top dn-right dn-opened\" style=\"transition: top 1s linear 0s;\">\\n<div class=\"dn-slide   BOTTOM_BTNS\">\\n  <div class=\"dn-slide-logo\"><img src=\"https://i.ibb.co/hyyR5HB/GZ-favicon.png\"></div>\\n  <div class=\"dn-slide-body\">\\n      <h3 class=\"dn-slide-title\">Looking for best travel deals?</h3>\\n      <p class=\"dn-slide-message\">Get on-board for the latest updates.</p>\\n      <div class=\"dn-slide-buttons horizontal\">\\n          <button class=\"dn-slide-deny-btn\">Later</button>\\n          <button class=\"dn-slide-accept-btn\">Yes</button>\\n      </div>\\n  </div>\\n  <div class=\"dn-slide-buttons vertical\">\\n      <button class=\"dn-slide-accept-btn\">Yes</button>\\n      <button class=\"dn-slide-deny-btn\">Later</button>\\n  </div>\\n</div>\\n<style>\\n\\n  #dengage-push-perm-slide {\\n    position: absolute !important;\\n    width: 520px !important;\\n    z-index: 100000000 !important;\\n  }\\n  #dengage-push-perm-slide.dn-top {\\n    top: -260px !important;\\n  }\\n  #dengage-push-perm-slide.dn-bottom {\\n    bottom: -260px !important;\\n  }\\n  #dengage-push-perm-slide.dn-top.dn-opened {\\n    top: 0 !important;\\n  }\\n  #dengage-push-perm-slide.dn-bottom.dn-opened {\\n    bottom: 0 !important;\\n  }\\n  #dengage-push-perm-slide.dn-center {\\n    left: 50% !important;\\n    margin-left: -260px !important;\\n  }\\n  #dengage-push-perm-slide.dn-right {\\n    right: 0 !important;\\n  }\\n  #dengage-push-perm-slide.dn-left {\\n    left: 0 !important;\\n  }\\n  .dn-slide {\\n      box-shadow: 0 3px 10px 0 rgba(0, 0, 0, 0.43) !important;\\n      background: #FFFFFF !important;\\n      border: 0px solid #1C3C6B !important;\\n      border-radius: 15px !important;\\n      display: flex !important;\\n      overflow: auto !important;\\n      width: 520px !important;\\n      max-width: 520px !important;\\n      height: auto !important;\\n  }\\n\\n  .dn-slide-logo {\\n      width: 30% !important;\\n      padding: 15px !important;\\n      box-sizing: border-box !important;\\n      display: flex !important;\\n      justify-content: center !important;\\n      align-items: center !important;\\n  }\\n  .RIGHT_BTNS .dn-slide-logo {\\n      width: 18% !important;\\n      padding: 8px !important;\\n  }\\n  .dn-slide-logo img {\\n      width: 100% !important;\\n  }\\n  .dn-slide--noLogo .dn-slide-logo {\\n      display: none !important;\\n  }\\n\\n  .dn-slide-body {\\n      width: 70% !important;\\n      padding: 15px !important;\\n      box-sizing: border-box !important;\\n      line-height: 1.4 !important;\\n      vertical-align: middle !important;\\n      display: flex !important;\\n      flex-direction: column !important;\\n  }\\n  .RIGHT_BTNS .dn-slide-body {\\n      width: 58% !important;\\n      padding: 8px !important;\\n  }\\n  .dn-slide--noLogo .dn-slide-body {\\n      width: 100% !important;\\n  }\\n\\n  .dn-slide-title {\\n      background: none !important;\\n      color: #1C3C6B !important;\\n      font-family: Helvetica, Arial, sans-serif !important;\\n      font-size: 16px !important;\\n      font-weight: bold !important;\\n      margin: 0 !important;\\n      padding: 0 !important;\\n  }\\n  .dn-slide--noTitle .dn-slide-title {\\n      display: none !important;\\n  }\\n\\n  .dn-slide-message {\\n      background: none !important;\\n      color: #555555 !important;\\n      font-family: Helvetica, Arial, sans-serif !important;\\n      font-size: 15px !important;\\n      font-weight: normal !important;\\n      padding: 0 !important;\\n      margin: 12px 0 !important;\\n      flex: 1 !important;\\n  }\\n  .dn-slide--noTitle .dn-slide-message {\\n      margin: 5px 0 20px 10px !important;\\n  }\\n\\n  .dn-slide-buttons {\\n      display: flex !important;\\n  }\\n  .dn-slide-buttons.vertical {\\n      flex-direction: column !important;\\n      justify-content: center !important;\\n      align-items: center !important;\\n      width: 24% !important;\\n      padding: 8px !important;\\n  }\\n  .dn-slide-buttons.horizontal {\\n      justify-content: flex-end !important;\\n      align-items: center !important;\\n  }\\n  .BOTTOM_BTNS .vertical {\\n      display: none !important;\\n  }\\n  .RIGHT_BTNS .horizontal {\\n      display: none !important;\\n  }\\n  .dn-slide-buttons button {\\n      padding: 8px 15px !important;\\n      margin: 0 !important;\\n      text-align: center !important;\\n      cursor: pointer !important;\\n  }\\n  .dn-slide-buttons.horizontal button {\\n      margin-left: 15px !important;\\n  }\\n  .dn-slide-buttons.vertical button {\\n      width: 100% !important;\\n  }\\n  .dn-slide-buttons.vertical button:first-child {\\n      margin-bottom: 5px !important;\\n  }\\n\\n  .dn-slide-buttons .dn-slide-accept-btn {\\n      background-color: #1C3C6B !important;\\n      color: #ffffff !important;\\n      font-family: Helvetica, Arial, sans-serif !important;\\n      font-size: 16px !important;\\n      font-weight: normal !important;\\n      border: 0px solid #1C3C6B !important;\\n      border-radius: 3px !important;\\n      box-shadow: none !important;\\n  }\\n  .dn-slide-buttons .dn-slide-accept-btn:hover {\\n      background-color: #163056 !important;\\n      color: #ffffff !important;\\n  }\\n\\n  .dn-slide-buttons .dn-slide-deny-btn {\\n      background-color: #ffffff !important;\\n      color: #1C3C6B !important;\\n      font-family: Helvetica, Arial, sans-serif !important;\\n      font-size: 16px !important;\\n      font-weight: normal !important;\\n      border: 0px solid #1C3C6B !important;\\n      border-radius: 3px !important;\\n      box-shadow: none !important;\\n  }\\n  .dn-slide-buttons .dn-slide-deny-btn:hover {\\n      background-color: #ffffff !important;\\n      color: #163056 !important;\\n  }\\n\\n  @media only screen and (max-width: 500px) {\\n      #dengage-push-perm-slide {\\n        width: 100% !important;\\n        margin-left: 0 !important;\\n        left:0 !important;\\n      }\\n      #dengage-push-perm-slide.dn-center {\\n        left: 0 !important;\\n        margin-left: 0 !important;\\n      }\\n      #dengage-push-perm-slide.dn-right {\\n        left: 0 !important;\\n        right: 0 !important;\\n        margin-left: 0 !important;\\n      }\\n\\n      .dn-slide {\\n          width: 100% !important;\\n          max-width: 100% !important;\\n      }\\n\\n      /*.dn-slide-title {\\n          font-size: 12px !important;\\n      }\\n\\n      .dn-slide-message {\\n          font-size: 11px !important;\\n      }\\n\\n      .dn-slide-buttons button {\\n          padding: 5px 10px !important;\\n          margin-left: 15px !important;\\n          font-size: 12px !important;\\n      }*/\\n  }\\n</style>\\n    </div></body></html>'"
      ]
     },
     "execution_count": 26,
     "metadata": {},
     "output_type": "execute_result"
    }
   ],
   "source": [
    "driver.page_source"
   ]
  },
  {
   "cell_type": "code",
   "execution_count": null,
   "metadata": {},
   "outputs": [],
   "source": []
  }
 ],
 "metadata": {
  "kernelspec": {
   "display_name": "Python 3",
   "language": "python",
   "name": "python3"
  },
  "language_info": {
   "codemirror_mode": {
    "name": "ipython",
    "version": 3
   },
   "file_extension": ".py",
   "mimetype": "text/x-python",
   "name": "python",
   "nbconvert_exporter": "python",
   "pygments_lexer": "ipython3",
   "version": "3.8.5"
  }
 },
 "nbformat": 4,
 "nbformat_minor": 4
}
